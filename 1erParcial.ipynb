{
 "cells": [
  {
   "cell_type": "markdown",
   "id": "c0c91a93-40d2-4dfb-813b-08191eca076a",
   "metadata": {},
   "source": [
    "## 1er examen parcial"
   ]
  },
  {
   "cell_type": "markdown",
   "id": "18679ba1-ce66-4396-b7cb-202f24540553",
   "metadata": {},
   "source": [
    "#### *Franco Ruggiero*"
   ]
  },
  {
   "cell_type": "markdown",
   "id": "9e8f275e-7bf2-4155-928c-f899082d4a2e",
   "metadata": {},
   "source": [
    "><center> <img src=\"Enunciado1.png\" style=\"width:600px\"> <center>"
   ]
  },
  {
   "cell_type": "markdown",
   "id": "de3d8381-3580-4100-8d72-933a3681e73c",
   "metadata": {},
   "source": [
    "><center> <img src=\"1.jpg\" style=\"width:600px\"> <center>\n",
    "><center> <img src=\"2.jpg\" style=\"width:600px\"> <center>\n",
    "><center> <img src=\"3.jpg\" style=\"width:600px\"> <center>"
   ]
  },
  {
   "cell_type": "code",
   "execution_count": 6,
   "id": "1dc41b7a-3355-4803-9968-7bb9514f985f",
   "metadata": {},
   "outputs": [
    {
     "name": "stdout",
     "output_type": "stream",
     "text": [
      "\n"
     ]
    },
    {
     "data": {
      "text/latex": [
       "$\\displaystyle \\frac{s^3 \\,\\, 0.005726 }{s^6 + s^5 \\,\\, 0.2506 + s^4 \\,\\, 3.061 + s^3 \\,\\, 0.5069 + s^2 \\,\\, 3.061 + s \\,\\, 0.2506 +   1 }$"
      ],
      "text/plain": [
       "<IPython.core.display.Math object>"
      ]
     },
     "metadata": {},
     "output_type": "display_data"
    },
    {
     "name": "stdout",
     "output_type": "stream",
     "text": [
      "\n"
     ]
    },
    {
     "data": {
      "text/latex": [
       "$\\displaystyle   \\frac{s\\,1.207\\,\\frac{  1}{7.981}}{s^2 + s \\frac{  1}{7.981} +   1^2} . \\frac{s\\,2.045\\,\\frac{0.903}{16.05}}{s^2 + s \\frac{0.903}{16.05} + 0.903^2} . \\frac{s\\,4.768\\,\\frac{1.107}{16.05}}{s^2 + s \\frac{1.107}{16.05} + 1.107^2}$"
      ],
      "text/plain": [
       "<IPython.core.display.Math object>"
      ]
     },
     "metadata": {},
     "output_type": "display_data"
    },
    {
     "name": "stdout",
     "output_type": "stream",
     "text": [
      "\n"
     ]
    }
   ],
   "source": [
    "from pytc2.sistemas_lineales import analyze_sys, pretty_print_lti, tf2sos_analog, pretty_print_SOS, parametrize_sos, pretty_print_bicuad_omegayq\n",
    "from pytc2.general import Chebyshev_polynomials, s, w, print_subtitle, print_latex, a_equal_b_latex_s\n",
    "import sympy as sp\n",
    "import numpy as np\n",
    "import scipy.signal as sig\n",
    "import matplotlib.pyplot as plt\n",
    "\n",
    "alpha_max = 0.5\n",
    "\n",
    "eeps = 10**(alpha_max/10)-1\n",
    "\n",
    "n=3\n",
    "\n",
    "chebn_expr = Chebyshev_polynomials(n)\n",
    "\n",
    "# obtengo T_ch(s) = T(s)*T(-s) \n",
    "# Tch_jw = (1/eeps) / (1/eeps + chebn_expr**2)\n",
    "Tch_jw = -(1/(eeps*16)) / (-(1/eeps + chebn_expr**2)/16)\n",
    "j = sp.I\n",
    "Tch_s = Tch_jw.subs(w, s/j)\n",
    "\n",
    "Q_bp = 5\n",
    "\n",
    "\n",
    "z,p,k = sig.cheb1ap(n, alpha_max)\n",
    "num_cheb, den_cheb = sig.zpk2tf(z,p,k)\n",
    "\n",
    "num_bp, den_bp = sig.lp2bp(num_cheb, den_cheb, bw = 1/Q_bp)\n",
    "\n",
    "print('')\n",
    "pretty_print_lti(num_bp, den_bp, displaystr=True)\n",
    "print('')\n",
    "# pretty_print_bicuad_omegayq(num_bp, den_bp, displaystr=True) #error de compilacion\n",
    "\n",
    "sos_bp = tf2sos_analog(num_bp, den_bp)\n",
    "pretty_print_SOS(sos_bp, mode='omegayq', displaystr=True)\n",
    "print('')"
   ]
  },
  {
   "cell_type": "markdown",
   "id": "03a21b09-ce04-4e92-863e-aeb3a0f3652e",
   "metadata": {},
   "source": [
    "><center> <img src=\"enunciado2.png\" style=\"width:600px\"> <center>\n",
    "><center> <img src=\"4.jpg\" style=\"width:600px\"> <center>\n",
    "><center> <img src=\"5.jpg\" style=\"width:600px\"> <center>\n",
    "><center> <img src=\"enunciado2.png\" style=\"width:600px\"> <center>\n",
    "><center> <img src=\"enunciado2.png\" style=\"width:600px\"> <center>\n",
    "><center> <img src=\"enunciado2.png\" style=\"width:600px\"> <center>"
   ]
  },
  {
   "cell_type": "code",
   "execution_count": null,
   "id": "364a7f54-b800-47a1-8144-e55471843675",
   "metadata": {},
   "outputs": [],
   "source": []
  }
 ],
 "metadata": {
  "kernelspec": {
   "display_name": "Python 3 (ipykernel)",
   "language": "python",
   "name": "python3"
  },
  "language_info": {
   "codemirror_mode": {
    "name": "ipython",
    "version": 3
   },
   "file_extension": ".py",
   "mimetype": "text/x-python",
   "name": "python",
   "nbconvert_exporter": "python",
   "pygments_lexer": "ipython3",
   "version": "3.10.12"
  }
 },
 "nbformat": 4,
 "nbformat_minor": 5
}
